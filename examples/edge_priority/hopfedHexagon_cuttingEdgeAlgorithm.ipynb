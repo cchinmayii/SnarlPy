{
 "cells": [
  {
   "cell_type": "markdown",
   "metadata": {},
   "source": [
    "# Creating an edge cutting routine"
   ]
  },
  {
   "cell_type": "code",
   "execution_count": 1,
   "metadata": {},
   "outputs": [],
   "source": [
    "# import external modules\n",
    "import networkx as nx\n",
    "import numpy as np\n",
    "import scipy\n",
    "\n",
    "# import custom modules for linking number identification\n",
    "import intertwined.sampling as itws\n",
    "import intertwined.edgePriority as itwe\n",
    "\n",
    "# import local module to create entangled toy models\n",
    "import intertwined.tangledGenerators as tg\n",
    "import layoutPlots"
   ]
  },
  {
   "cell_type": "code",
   "execution_count": 2,
   "metadata": {
    "scrolled": false
   },
   "outputs": [
    {
     "ename": "AttributeError",
     "evalue": "module 'kirchhoff.circuit_dual' has no attribute 'initialize_dual_circuit_from_networkx'",
     "output_type": "error",
     "traceback": [
      "\u001b[0;31m---------------------------------------------------------------------------\u001b[0m",
      "\u001b[0;31mAttributeError\u001b[0m                            Traceback (most recent call last)",
      "\u001b[0;32m/var/folders/5b/tcm4rvz92pl1k9ff64g3dr440000gp/T/ipykernel_6612/1117233874.py\u001b[0m in \u001b[0;36m<module>\u001b[0;34m\u001b[0m\n\u001b[1;32m     46\u001b[0m \u001b[0;34m\u001b[0m\u001b[0m\n\u001b[1;32m     47\u001b[0m \u001b[0moffset\u001b[0m \u001b[0;34m=\u001b[0m \u001b[0;36m1\u001b[0m\u001b[0;34m\u001b[0m\u001b[0;34m\u001b[0m\u001b[0m\n\u001b[0;32m---> 48\u001b[0;31m \u001b[0mcut_list\u001b[0m\u001b[0;34m,\u001b[0m\u001b[0mp\u001b[0m \u001b[0;34m=\u001b[0m \u001b[0mscreen_entaglement_hopf\u001b[0m\u001b[0;34m(\u001b[0m\u001b[0;34m)\u001b[0m\u001b[0;34m\u001b[0m\u001b[0;34m\u001b[0m\u001b[0m\n\u001b[0m\u001b[1;32m     49\u001b[0m \u001b[0mprint\u001b[0m\u001b[0;34m(\u001b[0m\u001b[0mcut_list\u001b[0m\u001b[0;34m)\u001b[0m\u001b[0;34m\u001b[0m\u001b[0;34m\u001b[0m\u001b[0m\n\u001b[1;32m     50\u001b[0m \u001b[0;31m# rho1 = len(cut_list[0])/1.\u001b[0m\u001b[0;34m\u001b[0m\u001b[0;34m\u001b[0m\u001b[0;34m\u001b[0m\u001b[0m\n",
      "\u001b[0;32m/var/folders/5b/tcm4rvz92pl1k9ff64g3dr440000gp/T/ipykernel_6612/1117233874.py\u001b[0m in \u001b[0;36mscreen_entaglement_hopf\u001b[0;34m()\u001b[0m\n\u001b[1;32m      4\u001b[0m     \u001b[0mP\u001b[0m\u001b[0;34m,\u001b[0m \u001b[0mpars\u001b[0m \u001b[0;34m=\u001b[0m \u001b[0;34m[\u001b[0m\u001b[0;34m]\u001b[0m\u001b[0;34m,\u001b[0m \u001b[0;34m[\u001b[0m\u001b[0;34m]\u001b[0m\u001b[0;34m\u001b[0m\u001b[0;34m\u001b[0m\u001b[0m\n\u001b[1;32m      5\u001b[0m \u001b[0;34m\u001b[0m\u001b[0m\n\u001b[0;32m----> 6\u001b[0;31m     \u001b[0mD\u001b[0m \u001b[0;34m=\u001b[0m \u001b[0mtg\u001b[0m\u001b[0;34m.\u001b[0m\u001b[0mcreateLabelHexagonHopfed_V4\u001b[0m\u001b[0;34m(\u001b[0m\u001b[0;34m)\u001b[0m\u001b[0;34m\u001b[0m\u001b[0;34m\u001b[0m\u001b[0m\n\u001b[0m\u001b[1;32m      7\u001b[0m     \u001b[0;32mfor\u001b[0m \u001b[0mi\u001b[0m\u001b[0;34m,\u001b[0m \u001b[0mk\u001b[0m \u001b[0;32min\u001b[0m \u001b[0menumerate\u001b[0m\u001b[0;34m(\u001b[0m\u001b[0mD\u001b[0m\u001b[0;34m.\u001b[0m\u001b[0mlayer\u001b[0m\u001b[0;34m)\u001b[0m\u001b[0;34m:\u001b[0m\u001b[0;34m\u001b[0m\u001b[0;34m\u001b[0m\u001b[0m\n\u001b[1;32m      8\u001b[0m \u001b[0;34m\u001b[0m\u001b[0m\n",
      "\u001b[0;32m~/anaconda3/lib/python3.7/site-packages/intertwined/tangledGenerators.py\u001b[0m in \u001b[0;36mcreateLabelHexagonHopfed_V4\u001b[0;34m()\u001b[0m\n\u001b[1;32m    200\u001b[0m     \u001b[0mG0\u001b[0m\u001b[0;34m.\u001b[0m\u001b[0madd_edge\u001b[0m\u001b[0;34m(\u001b[0m\u001b[0mlen\u001b[0m\u001b[0;34m(\u001b[0m\u001b[0mphi\u001b[0m\u001b[0;34m)\u001b[0m\u001b[0;34m-\u001b[0m\u001b[0;36m2\u001b[0m\u001b[0;34m,\u001b[0m\u001b[0;36m0\u001b[0m\u001b[0;34m)\u001b[0m\u001b[0;34m\u001b[0m\u001b[0;34m\u001b[0m\u001b[0m\n\u001b[1;32m    201\u001b[0m \u001b[0;34m\u001b[0m\u001b[0m\n\u001b[0;32m--> 202\u001b[0;31m     \u001b[0mD\u001b[0m\u001b[0;34m=\u001b[0m\u001b[0mkcd\u001b[0m\u001b[0;34m.\u001b[0m\u001b[0minitialize_dual_circuit_from_networkx\u001b[0m\u001b[0;34m(\u001b[0m\u001b[0mG0\u001b[0m\u001b[0;34m,\u001b[0m\u001b[0mK\u001b[0m\u001b[0;34m.\u001b[0m\u001b[0mG\u001b[0m\u001b[0;34m,\u001b[0m\u001b[0;34m[\u001b[0m\u001b[0;34m]\u001b[0m\u001b[0;34m)\u001b[0m\u001b[0;34m\u001b[0m\u001b[0;34m\u001b[0m\u001b[0m\n\u001b[0m\u001b[1;32m    203\u001b[0m \u001b[0;34m\u001b[0m\u001b[0m\n\u001b[1;32m    204\u001b[0m     \u001b[0;32mreturn\u001b[0m \u001b[0mD\u001b[0m\u001b[0;34m\u001b[0m\u001b[0;34m\u001b[0m\u001b[0m\n",
      "\u001b[0;31mAttributeError\u001b[0m: module 'kirchhoff.circuit_dual' has no attribute 'initialize_dual_circuit_from_networkx'"
     ]
    }
   ],
   "source": [
    "def screen_entaglement_hopf():\n",
    "    \n",
    "    num_periods = 2\n",
    "    P, pars = [], []\n",
    "        \n",
    "    D = tg.createLabelHexagonHopfed_V4()\n",
    "    for i, k in enumerate(D.layer):\n",
    "            \n",
    "        k.nodes['label'] = [n for n in k.G.nodes()]\n",
    "        k.edges['label'] = [e for i, e in enumerate(k.G.edges())]  \n",
    "   \n",
    "    for Dl in D.layer:\n",
    "        print(itws.calc_nullity(Dl.G))\n",
    "        print(nx.info(Dl.G))\n",
    "        \n",
    "    graph_sets = [k.G for k in D.layer]\n",
    "    init_cut_sets = [graph_sets[:], graph_sets[::-1]]\n",
    "    cut_lists = []\n",
    "    for ics in init_cut_sets:\n",
    "        cut_lists.append(itwe.cuttingEdgeAlgorithm(*ics))\n",
    "        \n",
    "    graph_sets = [k.G for k in D.layer]\n",
    "    p,lk_mat=itwe.getEdgeLinkageOperator(graph_sets)\n",
    "    \n",
    "    layoutPlots.export_priorityPlot(D, p, 'hopfedHexagon_origin')\n",
    "    \n",
    "    return cut_lists,p\n",
    "\n",
    "def pruned_entaglement_hopf(tag):\n",
    "    \n",
    "    P, pars = [], []\n",
    "        \n",
    "    D = tg.createLabelHexagonHopfed_V4()\n",
    "    for i, k in enumerate(D.layer):\n",
    "            \n",
    "        k.nodes['label'] = [n for n in k.G.nodes()]\n",
    "        k.edges['label'] = [e for i, e in enumerate(k.G.edges())]  \n",
    "\n",
    "        \n",
    "    graph_sets = [k.G for k in D.layer]\n",
    "    p,lk_mat = itwe.getEdgeLinkageOperator(graph_sets)\n",
    "    \n",
    "    layoutPlots.export_priorityPlot(D, p, 'hopfedHexagon_'+tag)\n",
    "    \n",
    "    return p\n",
    "\n",
    "offset = 1\n",
    "cut_list,p = screen_entaglement_hopf()\n",
    "print(cut_list)\n",
    "# rho1 = len(cut_list[0])/1.\n",
    "# rho2 = len(cut_list[1])/15.\n",
    "# rho_eff = rho1*rho2*2./(rho1+rho2)\n",
    "layoutPlots.plotLambdaMaps(p, 0)\n",
    "# print(rho1)\n",
    "# print(rho2)\n",
    "# print(rho_eff)\n"
   ]
  },
  {
   "cell_type": "code",
   "execution_count": null,
   "metadata": {},
   "outputs": [],
   "source": [
    "tg.bouncerList += [(12,24)]\n",
    "p = pruned_entaglement_hopf('1')\n",
    "layoutPlots.plotLambdaMaps(p, 1)"
   ]
  },
  {
   "cell_type": "code",
   "execution_count": null,
   "metadata": {},
   "outputs": [],
   "source": [
    "tg.bouncerList += [(20,32)]\n",
    "p = pruned_entaglement_hopf('2')\n",
    "layoutPlots.plotLambdaMaps(p, 2)"
   ]
  },
  {
   "cell_type": "code",
   "execution_count": null,
   "metadata": {},
   "outputs": [],
   "source": [
    "tg.bouncerList += [(33,34)]\n",
    "p = pruned_entaglement_hopf('3')\n",
    "layoutPlots.plotLambdaMaps(p, 3)"
   ]
  },
  {
   "cell_type": "code",
   "execution_count": null,
   "metadata": {},
   "outputs": [],
   "source": []
  }
 ],
 "metadata": {
  "kernelspec": {
   "display_name": "Python 3 (ipykernel)",
   "language": "python",
   "name": "python3"
  },
  "language_info": {
   "codemirror_mode": {
    "name": "ipython",
    "version": 3
   },
   "file_extension": ".py",
   "mimetype": "text/x-python",
   "name": "python",
   "nbconvert_exporter": "python",
   "pygments_lexer": "ipython3",
   "version": "3.7.3"
  }
 },
 "nbformat": 4,
 "nbformat_minor": 4
}
