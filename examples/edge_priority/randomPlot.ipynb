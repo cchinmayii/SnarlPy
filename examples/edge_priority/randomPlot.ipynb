{
 "cells": [
  {
   "cell_type": "code",
   "execution_count": 4,
   "metadata": {},
   "outputs": [
    {
     "name": "stdout",
     "output_type": "stream",
     "text": [
      "circuit(): initialized and ready for (some) action :)\n"
     ]
    },
    {
     "data": {
      "application/vnd.plotly.v1+json": {
       "config": {
        "plotlyServerURL": "https://plot.ly"
       },
       "data": [
        {
         "hoverinfo": "text",
         "hovertext": [
          "label: 0.0<br>",
          "label: 0.0<br>",
          "label: 0.0<br>",
          "label: 0.0<br>",
          "label: 0.0<br>",
          "label: 0.0<br>",
          "label: 0.0<br>",
          "label: 0.0<br>",
          "label: 0.0<br>",
          "label: 0.0<br>",
          "label: 0.0<br>",
          "label: 0.0<br>",
          "label: 0.0<br>"
         ],
         "marker": {
          "color": "#a845b5",
          "line": {
           "width": 2
          },
          "size": 15
         },
         "mode": "markers",
         "type": "scatter",
         "x": [
          -0.2702350989298743,
          -1.2269789286563237,
          -1.4943876223802892,
          0.6732998759667783,
          2.161907414291574,
          2.779191092205517,
          5.673299875966778,
          4.7297649010701255,
          3.773021071343676,
          3.5056123776197112,
          2.779191092205517,
          -0.2702350989298743,
          3.5056123776197112
         ],
         "y": [
          6.04247098107817,
          5.595022400984277,
          5.059472565226296,
          2.6972415213529315,
          3.1821676126385343,
          4.565113098256129,
          2.6972415213529315,
          1.0424709810781696,
          0.5950224009842775,
          5.059472565226296,
          -0.434886901743871,
          1.0424709810781696,
          0.05947256522629596
         ]
        },
        {
         "hoverinfo": "none",
         "line": {
          "color": "#000000",
          "width": 5
         },
         "mode": "lines",
         "type": "scatter",
         "x": [
          -0.2702350989298743,
          -1.2269789286563237,
          null
         ],
         "y": [
          6.04247098107817,
          5.595022400984277,
          null
         ]
        },
        {
         "hoverinfo": "none",
         "line": {
          "color": "#000000",
          "width": 5
         },
         "mode": "lines",
         "type": "scatter",
         "x": [
          -0.2702350989298743,
          2.779191092205517,
          null
         ],
         "y": [
          6.04247098107817,
          4.565113098256129,
          null
         ]
        },
        {
         "hoverinfo": "none",
         "line": {
          "color": "#000000",
          "width": 5
         },
         "mode": "lines",
         "type": "scatter",
         "x": [
          -1.2269789286563237,
          -1.4943876223802892,
          null
         ],
         "y": [
          5.595022400984277,
          5.059472565226296,
          null
         ]
        },
        {
         "hoverinfo": "none",
         "line": {
          "color": "#000000",
          "width": 5
         },
         "mode": "lines",
         "type": "scatter",
         "x": [
          -1.4943876223802892,
          0.6732998759667783,
          null
         ],
         "y": [
          5.059472565226296,
          2.6972415213529315,
          null
         ]
        },
        {
         "hoverinfo": "none",
         "line": {
          "color": "#000000",
          "width": 5
         },
         "mode": "lines",
         "type": "scatter",
         "x": [
          0.6732998759667783,
          2.161907414291574,
          null
         ],
         "y": [
          2.6972415213529315,
          3.1821676126385343,
          null
         ]
        },
        {
         "hoverinfo": "none",
         "line": {
          "color": "#000000",
          "width": 5
         },
         "mode": "lines",
         "type": "scatter",
         "x": [
          0.6732998759667783,
          -0.2702350989298743,
          null
         ],
         "y": [
          2.6972415213529315,
          1.0424709810781696,
          null
         ]
        },
        {
         "hoverinfo": "none",
         "line": {
          "color": "#000000",
          "width": 5
         },
         "mode": "lines",
         "type": "scatter",
         "x": [
          2.161907414291574,
          3.773021071343676,
          null
         ],
         "y": [
          3.1821676126385343,
          0.5950224009842775,
          null
         ]
        },
        {
         "hoverinfo": "none",
         "line": {
          "color": "#000000",
          "width": 5
         },
         "mode": "lines",
         "type": "scatter",
         "x": [
          2.161907414291574,
          2.779191092205517,
          null
         ],
         "y": [
          3.1821676126385343,
          4.565113098256129,
          null
         ]
        },
        {
         "hoverinfo": "none",
         "line": {
          "color": "#000000",
          "width": 5
         },
         "mode": "lines",
         "type": "scatter",
         "x": [
          2.779191092205517,
          3.5056123776197112,
          null
         ],
         "y": [
          4.565113098256129,
          5.059472565226296,
          null
         ]
        },
        {
         "hoverinfo": "none",
         "line": {
          "color": "#000000",
          "width": 5
         },
         "mode": "lines",
         "type": "scatter",
         "x": [
          5.673299875966778,
          3.5056123776197112,
          null
         ],
         "y": [
          2.6972415213529315,
          5.059472565226296,
          null
         ]
        },
        {
         "hoverinfo": "none",
         "line": {
          "color": "#000000",
          "width": 5
         },
         "mode": "lines",
         "type": "scatter",
         "x": [
          5.673299875966778,
          4.7297649010701255,
          null
         ],
         "y": [
          2.6972415213529315,
          1.0424709810781696,
          null
         ]
        },
        {
         "hoverinfo": "none",
         "line": {
          "color": "#000000",
          "width": 5
         },
         "mode": "lines",
         "type": "scatter",
         "x": [
          4.7297649010701255,
          3.773021071343676,
          null
         ],
         "y": [
          1.0424709810781696,
          0.5950224009842775,
          null
         ]
        },
        {
         "hoverinfo": "none",
         "line": {
          "color": "#000000",
          "width": 5
         },
         "mode": "lines",
         "type": "scatter",
         "x": [
          3.773021071343676,
          3.5056123776197112,
          null
         ],
         "y": [
          0.5950224009842775,
          0.05947256522629596,
          null
         ]
        },
        {
         "hoverinfo": "none",
         "line": {
          "color": "#000000",
          "width": 5
         },
         "mode": "lines",
         "type": "scatter",
         "x": [
          2.779191092205517,
          3.5056123776197112,
          null
         ],
         "y": [
          -0.434886901743871,
          0.05947256522629596,
          null
         ]
        },
        {
         "hoverinfo": "none",
         "line": {
          "color": "#000000",
          "width": 5
         },
         "mode": "lines",
         "type": "scatter",
         "x": [
          2.779191092205517,
          -0.2702350989298743,
          null
         ],
         "y": [
          -0.434886901743871,
          1.0424709810781696,
          null
         ]
        },
        {
         "hoverinfo": "text",
         "hoverlabel": {
          "bgcolor": "white"
         },
         "marker": {
          "color": "#000000",
          "opacity": 0
         },
         "mode": "markers",
         "text": [
          "label: 0.0<br>",
          "label: 0.0<br>",
          "label: 0.0<br>",
          "label: 0.0<br>",
          "label: 0.0<br>",
          "label: 0.0<br>",
          "label: 0.0<br>",
          "label: 0.0<br>",
          "label: 0.0<br>",
          "label: 0.0<br>",
          "label: 0.0<br>",
          "label: 0.0<br>",
          "label: 0.0<br>",
          "label: 0.0<br>",
          "label: 0.0<br>"
         ],
         "type": "scatter",
         "x": [
          -0.748607013793099,
          1.2544779966378212,
          -1.3606832755183065,
          -0.41054387320675545,
          1.4176036451291762,
          0.201532388518452,
          2.967464242817625,
          2.470549253248546,
          3.142401734912614,
          4.5894561267932446,
          5.2015323885184515,
          4.2513929862069,
          3.6393167244816933,
          3.142401734912614,
          1.2544779966378212
         ],
         "y": [
          5.818746691031223,
          5.303792039667149,
          5.327247483105287,
          3.878357043289614,
          2.939704566995733,
          1.8698562512155505,
          1.888595006811406,
          3.8736403554473315,
          4.812292831741212,
          3.878357043289614,
          1.8698562512155505,
          0.8187466910312236,
          0.32724748310528673,
          -0.18770716825878753,
          0.3037920396671493
         ]
        }
       ],
       "layout": {
        "autosize": true,
        "margin": {
         "b": 0,
         "l": 0,
         "r": 0,
         "t": 0
        },
        "plot_bgcolor": "#FFF",
        "scene": {
         "aspectmode": "data"
        },
        "showlegend": false,
        "template": {
         "data": {
          "bar": [
           {
            "error_x": {
             "color": "#2a3f5f"
            },
            "error_y": {
             "color": "#2a3f5f"
            },
            "marker": {
             "line": {
              "color": "#E5ECF6",
              "width": 0.5
             },
             "pattern": {
              "fillmode": "overlay",
              "size": 10,
              "solidity": 0.2
             }
            },
            "type": "bar"
           }
          ],
          "barpolar": [
           {
            "marker": {
             "line": {
              "color": "#E5ECF6",
              "width": 0.5
             },
             "pattern": {
              "fillmode": "overlay",
              "size": 10,
              "solidity": 0.2
             }
            },
            "type": "barpolar"
           }
          ],
          "carpet": [
           {
            "aaxis": {
             "endlinecolor": "#2a3f5f",
             "gridcolor": "white",
             "linecolor": "white",
             "minorgridcolor": "white",
             "startlinecolor": "#2a3f5f"
            },
            "baxis": {
             "endlinecolor": "#2a3f5f",
             "gridcolor": "white",
             "linecolor": "white",
             "minorgridcolor": "white",
             "startlinecolor": "#2a3f5f"
            },
            "type": "carpet"
           }
          ],
          "choropleth": [
           {
            "colorbar": {
             "outlinewidth": 0,
             "ticks": ""
            },
            "type": "choropleth"
           }
          ],
          "contour": [
           {
            "colorbar": {
             "outlinewidth": 0,
             "ticks": ""
            },
            "colorscale": [
             [
              0,
              "#0d0887"
             ],
             [
              0.1111111111111111,
              "#46039f"
             ],
             [
              0.2222222222222222,
              "#7201a8"
             ],
             [
              0.3333333333333333,
              "#9c179e"
             ],
             [
              0.4444444444444444,
              "#bd3786"
             ],
             [
              0.5555555555555556,
              "#d8576b"
             ],
             [
              0.6666666666666666,
              "#ed7953"
             ],
             [
              0.7777777777777778,
              "#fb9f3a"
             ],
             [
              0.8888888888888888,
              "#fdca26"
             ],
             [
              1,
              "#f0f921"
             ]
            ],
            "type": "contour"
           }
          ],
          "contourcarpet": [
           {
            "colorbar": {
             "outlinewidth": 0,
             "ticks": ""
            },
            "type": "contourcarpet"
           }
          ],
          "heatmap": [
           {
            "colorbar": {
             "outlinewidth": 0,
             "ticks": ""
            },
            "colorscale": [
             [
              0,
              "#0d0887"
             ],
             [
              0.1111111111111111,
              "#46039f"
             ],
             [
              0.2222222222222222,
              "#7201a8"
             ],
             [
              0.3333333333333333,
              "#9c179e"
             ],
             [
              0.4444444444444444,
              "#bd3786"
             ],
             [
              0.5555555555555556,
              "#d8576b"
             ],
             [
              0.6666666666666666,
              "#ed7953"
             ],
             [
              0.7777777777777778,
              "#fb9f3a"
             ],
             [
              0.8888888888888888,
              "#fdca26"
             ],
             [
              1,
              "#f0f921"
             ]
            ],
            "type": "heatmap"
           }
          ],
          "heatmapgl": [
           {
            "colorbar": {
             "outlinewidth": 0,
             "ticks": ""
            },
            "colorscale": [
             [
              0,
              "#0d0887"
             ],
             [
              0.1111111111111111,
              "#46039f"
             ],
             [
              0.2222222222222222,
              "#7201a8"
             ],
             [
              0.3333333333333333,
              "#9c179e"
             ],
             [
              0.4444444444444444,
              "#bd3786"
             ],
             [
              0.5555555555555556,
              "#d8576b"
             ],
             [
              0.6666666666666666,
              "#ed7953"
             ],
             [
              0.7777777777777778,
              "#fb9f3a"
             ],
             [
              0.8888888888888888,
              "#fdca26"
             ],
             [
              1,
              "#f0f921"
             ]
            ],
            "type": "heatmapgl"
           }
          ],
          "histogram": [
           {
            "marker": {
             "pattern": {
              "fillmode": "overlay",
              "size": 10,
              "solidity": 0.2
             }
            },
            "type": "histogram"
           }
          ],
          "histogram2d": [
           {
            "colorbar": {
             "outlinewidth": 0,
             "ticks": ""
            },
            "colorscale": [
             [
              0,
              "#0d0887"
             ],
             [
              0.1111111111111111,
              "#46039f"
             ],
             [
              0.2222222222222222,
              "#7201a8"
             ],
             [
              0.3333333333333333,
              "#9c179e"
             ],
             [
              0.4444444444444444,
              "#bd3786"
             ],
             [
              0.5555555555555556,
              "#d8576b"
             ],
             [
              0.6666666666666666,
              "#ed7953"
             ],
             [
              0.7777777777777778,
              "#fb9f3a"
             ],
             [
              0.8888888888888888,
              "#fdca26"
             ],
             [
              1,
              "#f0f921"
             ]
            ],
            "type": "histogram2d"
           }
          ],
          "histogram2dcontour": [
           {
            "colorbar": {
             "outlinewidth": 0,
             "ticks": ""
            },
            "colorscale": [
             [
              0,
              "#0d0887"
             ],
             [
              0.1111111111111111,
              "#46039f"
             ],
             [
              0.2222222222222222,
              "#7201a8"
             ],
             [
              0.3333333333333333,
              "#9c179e"
             ],
             [
              0.4444444444444444,
              "#bd3786"
             ],
             [
              0.5555555555555556,
              "#d8576b"
             ],
             [
              0.6666666666666666,
              "#ed7953"
             ],
             [
              0.7777777777777778,
              "#fb9f3a"
             ],
             [
              0.8888888888888888,
              "#fdca26"
             ],
             [
              1,
              "#f0f921"
             ]
            ],
            "type": "histogram2dcontour"
           }
          ],
          "mesh3d": [
           {
            "colorbar": {
             "outlinewidth": 0,
             "ticks": ""
            },
            "type": "mesh3d"
           }
          ],
          "parcoords": [
           {
            "line": {
             "colorbar": {
              "outlinewidth": 0,
              "ticks": ""
             }
            },
            "type": "parcoords"
           }
          ],
          "pie": [
           {
            "automargin": true,
            "type": "pie"
           }
          ],
          "scatter": [
           {
            "marker": {
             "colorbar": {
              "outlinewidth": 0,
              "ticks": ""
             }
            },
            "type": "scatter"
           }
          ],
          "scatter3d": [
           {
            "line": {
             "colorbar": {
              "outlinewidth": 0,
              "ticks": ""
             }
            },
            "marker": {
             "colorbar": {
              "outlinewidth": 0,
              "ticks": ""
             }
            },
            "type": "scatter3d"
           }
          ],
          "scattercarpet": [
           {
            "marker": {
             "colorbar": {
              "outlinewidth": 0,
              "ticks": ""
             }
            },
            "type": "scattercarpet"
           }
          ],
          "scattergeo": [
           {
            "marker": {
             "colorbar": {
              "outlinewidth": 0,
              "ticks": ""
             }
            },
            "type": "scattergeo"
           }
          ],
          "scattergl": [
           {
            "marker": {
             "colorbar": {
              "outlinewidth": 0,
              "ticks": ""
             }
            },
            "type": "scattergl"
           }
          ],
          "scattermapbox": [
           {
            "marker": {
             "colorbar": {
              "outlinewidth": 0,
              "ticks": ""
             }
            },
            "type": "scattermapbox"
           }
          ],
          "scatterpolar": [
           {
            "marker": {
             "colorbar": {
              "outlinewidth": 0,
              "ticks": ""
             }
            },
            "type": "scatterpolar"
           }
          ],
          "scatterpolargl": [
           {
            "marker": {
             "colorbar": {
              "outlinewidth": 0,
              "ticks": ""
             }
            },
            "type": "scatterpolargl"
           }
          ],
          "scatterternary": [
           {
            "marker": {
             "colorbar": {
              "outlinewidth": 0,
              "ticks": ""
             }
            },
            "type": "scatterternary"
           }
          ],
          "surface": [
           {
            "colorbar": {
             "outlinewidth": 0,
             "ticks": ""
            },
            "colorscale": [
             [
              0,
              "#0d0887"
             ],
             [
              0.1111111111111111,
              "#46039f"
             ],
             [
              0.2222222222222222,
              "#7201a8"
             ],
             [
              0.3333333333333333,
              "#9c179e"
             ],
             [
              0.4444444444444444,
              "#bd3786"
             ],
             [
              0.5555555555555556,
              "#d8576b"
             ],
             [
              0.6666666666666666,
              "#ed7953"
             ],
             [
              0.7777777777777778,
              "#fb9f3a"
             ],
             [
              0.8888888888888888,
              "#fdca26"
             ],
             [
              1,
              "#f0f921"
             ]
            ],
            "type": "surface"
           }
          ],
          "table": [
           {
            "cells": {
             "fill": {
              "color": "#EBF0F8"
             },
             "line": {
              "color": "white"
             }
            },
            "header": {
             "fill": {
              "color": "#C8D4E3"
             },
             "line": {
              "color": "white"
             }
            },
            "type": "table"
           }
          ]
         },
         "layout": {
          "annotationdefaults": {
           "arrowcolor": "#2a3f5f",
           "arrowhead": 0,
           "arrowwidth": 1
          },
          "autotypenumbers": "strict",
          "coloraxis": {
           "colorbar": {
            "outlinewidth": 0,
            "ticks": ""
           }
          },
          "colorscale": {
           "diverging": [
            [
             0,
             "#8e0152"
            ],
            [
             0.1,
             "#c51b7d"
            ],
            [
             0.2,
             "#de77ae"
            ],
            [
             0.3,
             "#f1b6da"
            ],
            [
             0.4,
             "#fde0ef"
            ],
            [
             0.5,
             "#f7f7f7"
            ],
            [
             0.6,
             "#e6f5d0"
            ],
            [
             0.7,
             "#b8e186"
            ],
            [
             0.8,
             "#7fbc41"
            ],
            [
             0.9,
             "#4d9221"
            ],
            [
             1,
             "#276419"
            ]
           ],
           "sequential": [
            [
             0,
             "#0d0887"
            ],
            [
             0.1111111111111111,
             "#46039f"
            ],
            [
             0.2222222222222222,
             "#7201a8"
            ],
            [
             0.3333333333333333,
             "#9c179e"
            ],
            [
             0.4444444444444444,
             "#bd3786"
            ],
            [
             0.5555555555555556,
             "#d8576b"
            ],
            [
             0.6666666666666666,
             "#ed7953"
            ],
            [
             0.7777777777777778,
             "#fb9f3a"
            ],
            [
             0.8888888888888888,
             "#fdca26"
            ],
            [
             1,
             "#f0f921"
            ]
           ],
           "sequentialminus": [
            [
             0,
             "#0d0887"
            ],
            [
             0.1111111111111111,
             "#46039f"
            ],
            [
             0.2222222222222222,
             "#7201a8"
            ],
            [
             0.3333333333333333,
             "#9c179e"
            ],
            [
             0.4444444444444444,
             "#bd3786"
            ],
            [
             0.5555555555555556,
             "#d8576b"
            ],
            [
             0.6666666666666666,
             "#ed7953"
            ],
            [
             0.7777777777777778,
             "#fb9f3a"
            ],
            [
             0.8888888888888888,
             "#fdca26"
            ],
            [
             1,
             "#f0f921"
            ]
           ]
          },
          "colorway": [
           "#636efa",
           "#EF553B",
           "#00cc96",
           "#ab63fa",
           "#FFA15A",
           "#19d3f3",
           "#FF6692",
           "#B6E880",
           "#FF97FF",
           "#FECB52"
          ],
          "font": {
           "color": "#2a3f5f"
          },
          "geo": {
           "bgcolor": "white",
           "lakecolor": "white",
           "landcolor": "#E5ECF6",
           "showlakes": true,
           "showland": true,
           "subunitcolor": "white"
          },
          "hoverlabel": {
           "align": "left"
          },
          "hovermode": "closest",
          "mapbox": {
           "style": "light"
          },
          "paper_bgcolor": "white",
          "plot_bgcolor": "#E5ECF6",
          "polar": {
           "angularaxis": {
            "gridcolor": "white",
            "linecolor": "white",
            "ticks": ""
           },
           "bgcolor": "#E5ECF6",
           "radialaxis": {
            "gridcolor": "white",
            "linecolor": "white",
            "ticks": ""
           }
          },
          "scene": {
           "xaxis": {
            "backgroundcolor": "#E5ECF6",
            "gridcolor": "white",
            "gridwidth": 2,
            "linecolor": "white",
            "showbackground": true,
            "ticks": "",
            "zerolinecolor": "white"
           },
           "yaxis": {
            "backgroundcolor": "#E5ECF6",
            "gridcolor": "white",
            "gridwidth": 2,
            "linecolor": "white",
            "showbackground": true,
            "ticks": "",
            "zerolinecolor": "white"
           },
           "zaxis": {
            "backgroundcolor": "#E5ECF6",
            "gridcolor": "white",
            "gridwidth": 2,
            "linecolor": "white",
            "showbackground": true,
            "ticks": "",
            "zerolinecolor": "white"
           }
          },
          "shapedefaults": {
           "line": {
            "color": "#2a3f5f"
           }
          },
          "ternary": {
           "aaxis": {
            "gridcolor": "white",
            "linecolor": "white",
            "ticks": ""
           },
           "baxis": {
            "gridcolor": "white",
            "linecolor": "white",
            "ticks": ""
           },
           "bgcolor": "#E5ECF6",
           "caxis": {
            "gridcolor": "white",
            "linecolor": "white",
            "ticks": ""
           }
          },
          "title": {
           "x": 0.05
          },
          "xaxis": {
           "automargin": true,
           "gridcolor": "white",
           "linecolor": "white",
           "ticks": "",
           "title": {
            "standoff": 15
           },
           "zerolinecolor": "white",
           "zerolinewidth": 2
          },
          "yaxis": {
           "automargin": true,
           "gridcolor": "white",
           "linecolor": "white",
           "ticks": "",
           "title": {
            "standoff": 15
           },
           "zerolinecolor": "white",
           "zerolinewidth": 2
          }
         }
        },
        "xaxis": {
         "linecolor": "#BCCCDC",
         "showgrid": false
        },
        "yaxis": {
         "linecolor": "#BCCCDC",
         "showgrid": false
        }
       }
      },
      "text/html": [
       "<div>                            <div id=\"6c9b121b-5fb2-4839-9803-4c10abfe81ca\" class=\"plotly-graph-div\" style=\"height:525px; width:100%;\"></div>            <script type=\"text/javascript\">                require([\"plotly\"], function(Plotly) {                    window.PLOTLYENV=window.PLOTLYENV || {};                                    if (document.getElementById(\"6c9b121b-5fb2-4839-9803-4c10abfe81ca\")) {                    Plotly.newPlot(                        \"6c9b121b-5fb2-4839-9803-4c10abfe81ca\",                        [{\"hoverinfo\":\"text\",\"hovertext\":[\"label: 0.0<br>\",\"label: 0.0<br>\",\"label: 0.0<br>\",\"label: 0.0<br>\",\"label: 0.0<br>\",\"label: 0.0<br>\",\"label: 0.0<br>\",\"label: 0.0<br>\",\"label: 0.0<br>\",\"label: 0.0<br>\",\"label: 0.0<br>\",\"label: 0.0<br>\",\"label: 0.0<br>\"],\"marker\":{\"color\":\"#a845b5\",\"line\":{\"width\":2},\"size\":15},\"mode\":\"markers\",\"type\":\"scatter\",\"x\":[-0.2702350989298743,-1.2269789286563237,-1.4943876223802892,0.6732998759667783,2.161907414291574,2.779191092205517,5.673299875966778,4.7297649010701255,3.773021071343676,3.5056123776197112,2.779191092205517,-0.2702350989298743,3.5056123776197112],\"y\":[6.04247098107817,5.595022400984277,5.059472565226296,2.6972415213529315,3.1821676126385343,4.565113098256129,2.6972415213529315,1.0424709810781696,0.5950224009842775,5.059472565226296,-0.434886901743871,1.0424709810781696,0.05947256522629596]},{\"hoverinfo\":\"none\",\"line\":{\"color\":\"#000000\",\"width\":5},\"mode\":\"lines\",\"type\":\"scatter\",\"x\":[-0.2702350989298743,-1.2269789286563237,null],\"y\":[6.04247098107817,5.595022400984277,null]},{\"hoverinfo\":\"none\",\"line\":{\"color\":\"#000000\",\"width\":5},\"mode\":\"lines\",\"type\":\"scatter\",\"x\":[-0.2702350989298743,2.779191092205517,null],\"y\":[6.04247098107817,4.565113098256129,null]},{\"hoverinfo\":\"none\",\"line\":{\"color\":\"#000000\",\"width\":5},\"mode\":\"lines\",\"type\":\"scatter\",\"x\":[-1.2269789286563237,-1.4943876223802892,null],\"y\":[5.595022400984277,5.059472565226296,null]},{\"hoverinfo\":\"none\",\"line\":{\"color\":\"#000000\",\"width\":5},\"mode\":\"lines\",\"type\":\"scatter\",\"x\":[-1.4943876223802892,0.6732998759667783,null],\"y\":[5.059472565226296,2.6972415213529315,null]},{\"hoverinfo\":\"none\",\"line\":{\"color\":\"#000000\",\"width\":5},\"mode\":\"lines\",\"type\":\"scatter\",\"x\":[0.6732998759667783,2.161907414291574,null],\"y\":[2.6972415213529315,3.1821676126385343,null]},{\"hoverinfo\":\"none\",\"line\":{\"color\":\"#000000\",\"width\":5},\"mode\":\"lines\",\"type\":\"scatter\",\"x\":[0.6732998759667783,-0.2702350989298743,null],\"y\":[2.6972415213529315,1.0424709810781696,null]},{\"hoverinfo\":\"none\",\"line\":{\"color\":\"#000000\",\"width\":5},\"mode\":\"lines\",\"type\":\"scatter\",\"x\":[2.161907414291574,3.773021071343676,null],\"y\":[3.1821676126385343,0.5950224009842775,null]},{\"hoverinfo\":\"none\",\"line\":{\"color\":\"#000000\",\"width\":5},\"mode\":\"lines\",\"type\":\"scatter\",\"x\":[2.161907414291574,2.779191092205517,null],\"y\":[3.1821676126385343,4.565113098256129,null]},{\"hoverinfo\":\"none\",\"line\":{\"color\":\"#000000\",\"width\":5},\"mode\":\"lines\",\"type\":\"scatter\",\"x\":[2.779191092205517,3.5056123776197112,null],\"y\":[4.565113098256129,5.059472565226296,null]},{\"hoverinfo\":\"none\",\"line\":{\"color\":\"#000000\",\"width\":5},\"mode\":\"lines\",\"type\":\"scatter\",\"x\":[5.673299875966778,3.5056123776197112,null],\"y\":[2.6972415213529315,5.059472565226296,null]},{\"hoverinfo\":\"none\",\"line\":{\"color\":\"#000000\",\"width\":5},\"mode\":\"lines\",\"type\":\"scatter\",\"x\":[5.673299875966778,4.7297649010701255,null],\"y\":[2.6972415213529315,1.0424709810781696,null]},{\"hoverinfo\":\"none\",\"line\":{\"color\":\"#000000\",\"width\":5},\"mode\":\"lines\",\"type\":\"scatter\",\"x\":[4.7297649010701255,3.773021071343676,null],\"y\":[1.0424709810781696,0.5950224009842775,null]},{\"hoverinfo\":\"none\",\"line\":{\"color\":\"#000000\",\"width\":5},\"mode\":\"lines\",\"type\":\"scatter\",\"x\":[3.773021071343676,3.5056123776197112,null],\"y\":[0.5950224009842775,0.05947256522629596,null]},{\"hoverinfo\":\"none\",\"line\":{\"color\":\"#000000\",\"width\":5},\"mode\":\"lines\",\"type\":\"scatter\",\"x\":[2.779191092205517,3.5056123776197112,null],\"y\":[-0.434886901743871,0.05947256522629596,null]},{\"hoverinfo\":\"none\",\"line\":{\"color\":\"#000000\",\"width\":5},\"mode\":\"lines\",\"type\":\"scatter\",\"x\":[2.779191092205517,-0.2702350989298743,null],\"y\":[-0.434886901743871,1.0424709810781696,null]},{\"hoverinfo\":\"text\",\"hoverlabel\":{\"bgcolor\":\"white\"},\"marker\":{\"color\":\"#000000\",\"opacity\":0},\"mode\":\"markers\",\"text\":[\"label: 0.0<br>\",\"label: 0.0<br>\",\"label: 0.0<br>\",\"label: 0.0<br>\",\"label: 0.0<br>\",\"label: 0.0<br>\",\"label: 0.0<br>\",\"label: 0.0<br>\",\"label: 0.0<br>\",\"label: 0.0<br>\",\"label: 0.0<br>\",\"label: 0.0<br>\",\"label: 0.0<br>\",\"label: 0.0<br>\",\"label: 0.0<br>\"],\"type\":\"scatter\",\"x\":[-0.748607013793099,1.2544779966378212,-1.3606832755183065,-0.41054387320675545,1.4176036451291762,0.201532388518452,2.967464242817625,2.470549253248546,3.142401734912614,4.5894561267932446,5.2015323885184515,4.2513929862069,3.6393167244816933,3.142401734912614,1.2544779966378212],\"y\":[5.818746691031223,5.303792039667149,5.327247483105287,3.878357043289614,2.939704566995733,1.8698562512155505,1.888595006811406,3.8736403554473315,4.812292831741212,3.878357043289614,1.8698562512155505,0.8187466910312236,0.32724748310528673,-0.18770716825878753,0.3037920396671493]}],                        {\"autosize\":true,\"margin\":{\"b\":0,\"l\":0,\"r\":0,\"t\":0},\"plot_bgcolor\":\"#FFF\",\"scene\":{\"aspectmode\":\"data\"},\"showlegend\":false,\"template\":{\"data\":{\"bar\":[{\"error_x\":{\"color\":\"#2a3f5f\"},\"error_y\":{\"color\":\"#2a3f5f\"},\"marker\":{\"line\":{\"color\":\"#E5ECF6\",\"width\":0.5},\"pattern\":{\"fillmode\":\"overlay\",\"size\":10,\"solidity\":0.2}},\"type\":\"bar\"}],\"barpolar\":[{\"marker\":{\"line\":{\"color\":\"#E5ECF6\",\"width\":0.5},\"pattern\":{\"fillmode\":\"overlay\",\"size\":10,\"solidity\":0.2}},\"type\":\"barpolar\"}],\"carpet\":[{\"aaxis\":{\"endlinecolor\":\"#2a3f5f\",\"gridcolor\":\"white\",\"linecolor\":\"white\",\"minorgridcolor\":\"white\",\"startlinecolor\":\"#2a3f5f\"},\"baxis\":{\"endlinecolor\":\"#2a3f5f\",\"gridcolor\":\"white\",\"linecolor\":\"white\",\"minorgridcolor\":\"white\",\"startlinecolor\":\"#2a3f5f\"},\"type\":\"carpet\"}],\"choropleth\":[{\"colorbar\":{\"outlinewidth\":0,\"ticks\":\"\"},\"type\":\"choropleth\"}],\"contour\":[{\"colorbar\":{\"outlinewidth\":0,\"ticks\":\"\"},\"colorscale\":[[0.0,\"#0d0887\"],[0.1111111111111111,\"#46039f\"],[0.2222222222222222,\"#7201a8\"],[0.3333333333333333,\"#9c179e\"],[0.4444444444444444,\"#bd3786\"],[0.5555555555555556,\"#d8576b\"],[0.6666666666666666,\"#ed7953\"],[0.7777777777777778,\"#fb9f3a\"],[0.8888888888888888,\"#fdca26\"],[1.0,\"#f0f921\"]],\"type\":\"contour\"}],\"contourcarpet\":[{\"colorbar\":{\"outlinewidth\":0,\"ticks\":\"\"},\"type\":\"contourcarpet\"}],\"heatmap\":[{\"colorbar\":{\"outlinewidth\":0,\"ticks\":\"\"},\"colorscale\":[[0.0,\"#0d0887\"],[0.1111111111111111,\"#46039f\"],[0.2222222222222222,\"#7201a8\"],[0.3333333333333333,\"#9c179e\"],[0.4444444444444444,\"#bd3786\"],[0.5555555555555556,\"#d8576b\"],[0.6666666666666666,\"#ed7953\"],[0.7777777777777778,\"#fb9f3a\"],[0.8888888888888888,\"#fdca26\"],[1.0,\"#f0f921\"]],\"type\":\"heatmap\"}],\"heatmapgl\":[{\"colorbar\":{\"outlinewidth\":0,\"ticks\":\"\"},\"colorscale\":[[0.0,\"#0d0887\"],[0.1111111111111111,\"#46039f\"],[0.2222222222222222,\"#7201a8\"],[0.3333333333333333,\"#9c179e\"],[0.4444444444444444,\"#bd3786\"],[0.5555555555555556,\"#d8576b\"],[0.6666666666666666,\"#ed7953\"],[0.7777777777777778,\"#fb9f3a\"],[0.8888888888888888,\"#fdca26\"],[1.0,\"#f0f921\"]],\"type\":\"heatmapgl\"}],\"histogram\":[{\"marker\":{\"pattern\":{\"fillmode\":\"overlay\",\"size\":10,\"solidity\":0.2}},\"type\":\"histogram\"}],\"histogram2d\":[{\"colorbar\":{\"outlinewidth\":0,\"ticks\":\"\"},\"colorscale\":[[0.0,\"#0d0887\"],[0.1111111111111111,\"#46039f\"],[0.2222222222222222,\"#7201a8\"],[0.3333333333333333,\"#9c179e\"],[0.4444444444444444,\"#bd3786\"],[0.5555555555555556,\"#d8576b\"],[0.6666666666666666,\"#ed7953\"],[0.7777777777777778,\"#fb9f3a\"],[0.8888888888888888,\"#fdca26\"],[1.0,\"#f0f921\"]],\"type\":\"histogram2d\"}],\"histogram2dcontour\":[{\"colorbar\":{\"outlinewidth\":0,\"ticks\":\"\"},\"colorscale\":[[0.0,\"#0d0887\"],[0.1111111111111111,\"#46039f\"],[0.2222222222222222,\"#7201a8\"],[0.3333333333333333,\"#9c179e\"],[0.4444444444444444,\"#bd3786\"],[0.5555555555555556,\"#d8576b\"],[0.6666666666666666,\"#ed7953\"],[0.7777777777777778,\"#fb9f3a\"],[0.8888888888888888,\"#fdca26\"],[1.0,\"#f0f921\"]],\"type\":\"histogram2dcontour\"}],\"mesh3d\":[{\"colorbar\":{\"outlinewidth\":0,\"ticks\":\"\"},\"type\":\"mesh3d\"}],\"parcoords\":[{\"line\":{\"colorbar\":{\"outlinewidth\":0,\"ticks\":\"\"}},\"type\":\"parcoords\"}],\"pie\":[{\"automargin\":true,\"type\":\"pie\"}],\"scatter\":[{\"marker\":{\"colorbar\":{\"outlinewidth\":0,\"ticks\":\"\"}},\"type\":\"scatter\"}],\"scatter3d\":[{\"line\":{\"colorbar\":{\"outlinewidth\":0,\"ticks\":\"\"}},\"marker\":{\"colorbar\":{\"outlinewidth\":0,\"ticks\":\"\"}},\"type\":\"scatter3d\"}],\"scattercarpet\":[{\"marker\":{\"colorbar\":{\"outlinewidth\":0,\"ticks\":\"\"}},\"type\":\"scattercarpet\"}],\"scattergeo\":[{\"marker\":{\"colorbar\":{\"outlinewidth\":0,\"ticks\":\"\"}},\"type\":\"scattergeo\"}],\"scattergl\":[{\"marker\":{\"colorbar\":{\"outlinewidth\":0,\"ticks\":\"\"}},\"type\":\"scattergl\"}],\"scattermapbox\":[{\"marker\":{\"colorbar\":{\"outlinewidth\":0,\"ticks\":\"\"}},\"type\":\"scattermapbox\"}],\"scatterpolar\":[{\"marker\":{\"colorbar\":{\"outlinewidth\":0,\"ticks\":\"\"}},\"type\":\"scatterpolar\"}],\"scatterpolargl\":[{\"marker\":{\"colorbar\":{\"outlinewidth\":0,\"ticks\":\"\"}},\"type\":\"scatterpolargl\"}],\"scatterternary\":[{\"marker\":{\"colorbar\":{\"outlinewidth\":0,\"ticks\":\"\"}},\"type\":\"scatterternary\"}],\"surface\":[{\"colorbar\":{\"outlinewidth\":0,\"ticks\":\"\"},\"colorscale\":[[0.0,\"#0d0887\"],[0.1111111111111111,\"#46039f\"],[0.2222222222222222,\"#7201a8\"],[0.3333333333333333,\"#9c179e\"],[0.4444444444444444,\"#bd3786\"],[0.5555555555555556,\"#d8576b\"],[0.6666666666666666,\"#ed7953\"],[0.7777777777777778,\"#fb9f3a\"],[0.8888888888888888,\"#fdca26\"],[1.0,\"#f0f921\"]],\"type\":\"surface\"}],\"table\":[{\"cells\":{\"fill\":{\"color\":\"#EBF0F8\"},\"line\":{\"color\":\"white\"}},\"header\":{\"fill\":{\"color\":\"#C8D4E3\"},\"line\":{\"color\":\"white\"}},\"type\":\"table\"}]},\"layout\":{\"annotationdefaults\":{\"arrowcolor\":\"#2a3f5f\",\"arrowhead\":0,\"arrowwidth\":1},\"autotypenumbers\":\"strict\",\"coloraxis\":{\"colorbar\":{\"outlinewidth\":0,\"ticks\":\"\"}},\"colorscale\":{\"diverging\":[[0,\"#8e0152\"],[0.1,\"#c51b7d\"],[0.2,\"#de77ae\"],[0.3,\"#f1b6da\"],[0.4,\"#fde0ef\"],[0.5,\"#f7f7f7\"],[0.6,\"#e6f5d0\"],[0.7,\"#b8e186\"],[0.8,\"#7fbc41\"],[0.9,\"#4d9221\"],[1,\"#276419\"]],\"sequential\":[[0.0,\"#0d0887\"],[0.1111111111111111,\"#46039f\"],[0.2222222222222222,\"#7201a8\"],[0.3333333333333333,\"#9c179e\"],[0.4444444444444444,\"#bd3786\"],[0.5555555555555556,\"#d8576b\"],[0.6666666666666666,\"#ed7953\"],[0.7777777777777778,\"#fb9f3a\"],[0.8888888888888888,\"#fdca26\"],[1.0,\"#f0f921\"]],\"sequentialminus\":[[0.0,\"#0d0887\"],[0.1111111111111111,\"#46039f\"],[0.2222222222222222,\"#7201a8\"],[0.3333333333333333,\"#9c179e\"],[0.4444444444444444,\"#bd3786\"],[0.5555555555555556,\"#d8576b\"],[0.6666666666666666,\"#ed7953\"],[0.7777777777777778,\"#fb9f3a\"],[0.8888888888888888,\"#fdca26\"],[1.0,\"#f0f921\"]]},\"colorway\":[\"#636efa\",\"#EF553B\",\"#00cc96\",\"#ab63fa\",\"#FFA15A\",\"#19d3f3\",\"#FF6692\",\"#B6E880\",\"#FF97FF\",\"#FECB52\"],\"font\":{\"color\":\"#2a3f5f\"},\"geo\":{\"bgcolor\":\"white\",\"lakecolor\":\"white\",\"landcolor\":\"#E5ECF6\",\"showlakes\":true,\"showland\":true,\"subunitcolor\":\"white\"},\"hoverlabel\":{\"align\":\"left\"},\"hovermode\":\"closest\",\"mapbox\":{\"style\":\"light\"},\"paper_bgcolor\":\"white\",\"plot_bgcolor\":\"#E5ECF6\",\"polar\":{\"angularaxis\":{\"gridcolor\":\"white\",\"linecolor\":\"white\",\"ticks\":\"\"},\"bgcolor\":\"#E5ECF6\",\"radialaxis\":{\"gridcolor\":\"white\",\"linecolor\":\"white\",\"ticks\":\"\"}},\"scene\":{\"xaxis\":{\"backgroundcolor\":\"#E5ECF6\",\"gridcolor\":\"white\",\"gridwidth\":2,\"linecolor\":\"white\",\"showbackground\":true,\"ticks\":\"\",\"zerolinecolor\":\"white\"},\"yaxis\":{\"backgroundcolor\":\"#E5ECF6\",\"gridcolor\":\"white\",\"gridwidth\":2,\"linecolor\":\"white\",\"showbackground\":true,\"ticks\":\"\",\"zerolinecolor\":\"white\"},\"zaxis\":{\"backgroundcolor\":\"#E5ECF6\",\"gridcolor\":\"white\",\"gridwidth\":2,\"linecolor\":\"white\",\"showbackground\":true,\"ticks\":\"\",\"zerolinecolor\":\"white\"}},\"shapedefaults\":{\"line\":{\"color\":\"#2a3f5f\"}},\"ternary\":{\"aaxis\":{\"gridcolor\":\"white\",\"linecolor\":\"white\",\"ticks\":\"\"},\"baxis\":{\"gridcolor\":\"white\",\"linecolor\":\"white\",\"ticks\":\"\"},\"bgcolor\":\"#E5ECF6\",\"caxis\":{\"gridcolor\":\"white\",\"linecolor\":\"white\",\"ticks\":\"\"}},\"title\":{\"x\":0.05},\"xaxis\":{\"automargin\":true,\"gridcolor\":\"white\",\"linecolor\":\"white\",\"ticks\":\"\",\"title\":{\"standoff\":15},\"zerolinecolor\":\"white\",\"zerolinewidth\":2},\"yaxis\":{\"automargin\":true,\"gridcolor\":\"white\",\"linecolor\":\"white\",\"ticks\":\"\",\"title\":{\"standoff\":15},\"zerolinecolor\":\"white\",\"zerolinewidth\":2}}},\"xaxis\":{\"linecolor\":\"#BCCCDC\",\"showgrid\":false},\"yaxis\":{\"linecolor\":\"#BCCCDC\",\"showgrid\":false}},                        {\"responsive\": true}                    ).then(function(){\n",
       "                            \n",
       "var gd = document.getElementById('6c9b121b-5fb2-4839-9803-4c10abfe81ca');\n",
       "var x = new MutationObserver(function (mutations, observer) {{\n",
       "        var display = window.getComputedStyle(gd).display;\n",
       "        if (!display || display === 'none') {{\n",
       "            console.log([gd, 'removed!']);\n",
       "            Plotly.purge(gd);\n",
       "            observer.disconnect();\n",
       "        }}\n",
       "}});\n",
       "\n",
       "// Listen for the removal of the full notebook cells\n",
       "var notebookContainer = gd.closest('#notebook-container');\n",
       "if (notebookContainer) {{\n",
       "    x.observe(notebookContainer, {childList: true});\n",
       "}}\n",
       "\n",
       "// Listen for the clearing of the current output cell\n",
       "var outputEl = gd.closest('.output');\n",
       "if (outputEl) {{\n",
       "    x.observe(outputEl, {childList: true});\n",
       "}}\n",
       "\n",
       "                        })                };                });            </script>        </div>"
      ]
     },
     "metadata": {},
     "output_type": "display_data"
    }
   ],
   "source": [
    "# import external modules\n",
    "import networkx as nx\n",
    "import numpy as np\n",
    "import scipy\n",
    "import plotly.graph_objects as go\n",
    "import plotly.express as px\n",
    "from matplotlib import pyplot as plt\n",
    "\n",
    "# import custom modules for linking number identification\n",
    "import intertwined\n",
    "import intertwined.sampling as itws\n",
    "import intertwined.edgePriority as itwe\n",
    "import kirchhoff.circuit_init as kfi\n",
    "\n",
    "# import local module to create entangled toy models\n",
    "import intertwined.tangledGenerators as tg\n",
    "\n",
    "K = kfi.initialize_circuit_from_random('voronoi_planar', 3, 5)\n",
    "fig = K.plot_circuit(color_edges=['#000000'],markersize=[15], axis=False)\n",
    "fig.show()"
   ]
  },
  {
   "cell_type": "code",
   "execution_count": null,
   "metadata": {},
   "outputs": [],
   "source": []
  }
 ],
 "metadata": {
  "kernelspec": {
   "display_name": "Python 3",
   "language": "python",
   "name": "python3"
  },
  "language_info": {
   "codemirror_mode": {
    "name": "ipython",
    "version": 3
   },
   "file_extension": ".py",
   "mimetype": "text/x-python",
   "name": "python",
   "nbconvert_exporter": "python",
   "pygments_lexer": "ipython3",
   "version": "3.7.3"
  }
 },
 "nbformat": 4,
 "nbformat_minor": 4
}
