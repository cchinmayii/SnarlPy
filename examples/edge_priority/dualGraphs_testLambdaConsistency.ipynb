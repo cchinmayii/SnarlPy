{
 "cells": [
  {
   "cell_type": "markdown",
   "metadata": {},
   "source": [
    "# Checking lambda operator explicitly"
   ]
  },
  {
   "cell_type": "code",
   "execution_count": 1,
   "metadata": {},
   "outputs": [],
   "source": [
    "# import external modules\n",
    "import networkx as nx\n",
    "import numpy as np\n",
    "import scipy\n",
    "import plotly.graph_objects as go\n",
    "import plotly.express as px\n",
    "from matplotlib import pyplot as plt\n",
    "\n",
    "# import custom modules for linking number identification\n",
    "import intertwined.sampling as itws\n",
    "import intertwined.edgePriority as itwe\n",
    "import kirchhoff.circuit_dual as kcd\n",
    "import intertwined.cycleToolsLinking as ctl\n",
    "# import local module to create entangled toy models\n",
    "import tangledGenerators as tg\n",
    "import layoutPlots"
   ]
  },
  {
   "cell_type": "code",
   "execution_count": 2,
   "metadata": {},
   "outputs": [],
   "source": [
    "def shrinkSystem(D, factor):\n",
    "    \n",
    "    gs = []\n",
    "    for d in D.layer:\n",
    "        G = nx.Graph(d.G)\n",
    "        \n",
    "        for n in G.nodes():\n",
    "            p = G.nodes[n]['pos']\n",
    "            G.nodes[n]['pos'] = np.array(p)*factor\n",
    "        \n",
    "        gs.append(G)\n",
    "        \n",
    "    DN = kcd.initialize_dual_circuit_from_networkx(*gs, [])\n",
    "    \n",
    "    return DN\n",
    "\n",
    "def check_numeric_invariance(iteration, dual_circuit):\n",
    "    \n",
    "    graph_sets = [k.G for k in dual_circuit.layer]\n",
    "    \n",
    "    mat_sets = []\n",
    "    for i in range(iteration):\n",
    "        \n",
    "        P, lk_mat = itwe.getEdgeLinkageOperator(graph_sets)\n",
    "\n",
    "\n",
    "#         cyc_nx_base=[itws.calc_cycle_basis(G) for G in graph_sets]\n",
    "#         T = ctl.linkedCycles_fastExtraTools()\n",
    "#         bool_res,numeric_res = T.calc_linkage_cycleSets_nxGraph(*cyc_nx_base)\n",
    "#         lk_mat = itws.extract_linkage_matrix(numeric_res, [len(cb) for cb in cyc_nx_base])\n",
    "#         graph_matrices = itws.get_basis_matrices(graph_sets,cyc_nx_base)\n",
    "#         cyc_mat_dir = [cm for cm in graph_matrices[-2]]\n",
    "#         cyc_mat_inv = [scipy.linalg.pinv(cm) for cm in cyc_mat_dir]\n",
    "#         P = np.dot(np.dot(cyc_mat_inv[0].T,lk_mat),cyc_mat_inv[1])\n",
    "        \n",
    "        \n",
    "        mat_sets.append(P)\n",
    "        \n",
    "    return mat_sets\n",
    "\n",
    "def diffMatrixSets(mat_sets):\n",
    "    \n",
    "    matSum = mat_sets[0]\n",
    "    for ms in mat_sets[1:]:\n",
    "        matSum = np.add(matSum,ms)    \n",
    "    matSum = matSum/len(mat_sets)     \n",
    "    \n",
    "    matDiffSets = [np.subtract(ms,matSum) for ms in mat_sets]\n",
    "    \n",
    "    matDiff=[ np.linalg.norm(mds) for mds in matDiffSets]\n",
    "    diffMean = np.mean(matDiff)\n",
    "    diffStd = np.std(matDiff)\n",
    "        \n",
    "    return diffMean, diffStd  "
   ]
  },
  {
   "cell_type": "code",
   "execution_count": 3,
   "metadata": {},
   "outputs": [
    {
     "data": {
      "text/plain": [
       "(1.7573994172698832e-15, 9.399375638892348e-16)"
      ]
     },
     "execution_count": 3,
     "metadata": {},
     "output_type": "execute_result"
    }
   ],
   "source": [
    "import os\n",
    "path_in = '/Users/kramer/Documents/phd/projects/insilico/output/cluster_linkage_project/eval/regular_lattices/43616819/data'\n",
    "files = [f for f in os.listdir(path_in) if '.npy' in f]\n",
    "P = [np.load(path_in+'/'+f) for f in files]\n",
    "diffMatrixSets(P)"
   ]
  },
  {
   "cell_type": "code",
   "execution_count": 4,
   "metadata": {},
   "outputs": [
    {
     "data": {
      "text/plain": [
       "(1.1989197536832115e-15, 8.920195325386129e-16)"
      ]
     },
     "execution_count": 4,
     "metadata": {},
     "output_type": "execute_result"
    }
   ],
   "source": [
    "path_in = '/Users/kramer/Documents/phd/projects/insilico/output/cluster_linkage_project/eval/regular_lattices/43616870/data'\n",
    "files = [f for f in os.listdir(path_in) if '.npy' in f]\n",
    "P = [np.load(path_in+'/'+f) for f in files]\n",
    "diffMatrixSets(P)"
   ]
  },
  {
   "cell_type": "code",
   "execution_count": 5,
   "metadata": {},
   "outputs": [
    {
     "data": {
      "text/plain": [
       "(0.839432271823091, 0.5427068007905909)"
      ]
     },
     "execution_count": 5,
     "metadata": {},
     "output_type": "execute_result"
    }
   ],
   "source": [
    "path_in = '/Users/kramer/Documents/phd/projects/insilico/output/cluster_linkage_project/eval/regular_lattices/43616921/data'\n",
    "files = [f for f in os.listdir(path_in) if '.npy' in f]\n",
    "P = [np.load(path_in+'/'+f) for f in files]\n",
    "diffMatrixSets(P)"
   ]
  },
  {
   "cell_type": "markdown",
   "metadata": {},
   "source": [
    "# test non-least square solution for different cycle bases,\n",
    "# by reevaluating lambda repeatedly and measuring the mean difference in all elements"
   ]
  },
  {
   "cell_type": "code",
   "execution_count": 6,
   "metadata": {},
   "outputs": [],
   "source": [
    "# # test dual ladder\n",
    "# D = tg.createLabelCatenation(5)\n",
    "# # tg.shiftLadder(D, [0.495, 0., 0.])\n",
    "# # D = shrinkSystem(D, 1.)\n",
    "# mat_sets = check_numeric_invariance(20, D)\n",
    "# diffMatrixSets(mat_sets)"
   ]
  },
  {
   "cell_type": "code",
   "execution_count": 7,
   "metadata": {},
   "outputs": [],
   "source": [
    "# for i, p in enumerate(mat_sets):\n",
    "#     if i ==0 :\n",
    "#         layoutPlots.update_priorityPlot(D, p)"
   ]
  },
  {
   "cell_type": "code",
   "execution_count": 8,
   "metadata": {},
   "outputs": [],
   "source": [
    "# graph_sets = [k.G for k in D.layer]\n",
    "# cyc_nx_base=[itws.calc_cycle_basis(G) for G in graph_sets]\n",
    "\n",
    "# # # compute linkage of basis vectors\n",
    "# numeric_res= itws.calc_basis_linkage(*cyc_nx_base)\n",
    "# data = [np.round(v,2) for k,v in numeric_res.items()]\n",
    "\n",
    "# plt.hist(data, bins=50)\n",
    "# plt.yscale('log')\n",
    "# plt.show()"
   ]
  },
  {
   "cell_type": "code",
   "execution_count": 9,
   "metadata": {},
   "outputs": [],
   "source": [
    "# # test dual laves\n",
    "# D = tg.createLabelLaves(2)\n",
    "# mat_sets = check_numeric_invariance(10, D)\n",
    "# diffMatrixSets(mat_sets)"
   ]
  },
  {
   "cell_type": "code",
   "execution_count": 10,
   "metadata": {},
   "outputs": [],
   "source": [
    "# for i, p in enumerate(mat_sets):\n",
    "#     if i ==0 :\n",
    "#         layoutPlots.update_priorityPlot(D, p)"
   ]
  },
  {
   "cell_type": "code",
   "execution_count": 11,
   "metadata": {},
   "outputs": [],
   "source": [
    "# graph_sets = [k.G for k in D.layer]\n",
    "# cyc_nx_base=[itws.calc_cycle_basis(G) for G in graph_sets]\n",
    "\n",
    "# # # compute linkage of basis vectors\n",
    "# numeric_res= itws.calc_basis_linkage(*cyc_nx_base)\n",
    "# data = [np.round(v,2) for k,v in numeric_res.items()]\n",
    "# plt.hist(data, bins=50)\n",
    "# plt.yscale('log')"
   ]
  },
  {
   "cell_type": "code",
   "execution_count": 12,
   "metadata": {},
   "outputs": [],
   "source": [
    "# # check lambda operator explicitly for linkage number calculation of closed curves\n",
    "# import intertwined.edge_algebra as ea\n",
    "\n",
    "# D = tg.createLabelCatenation(2)\n",
    "# graph_sets = [k.G for k in D.layer]\n",
    "# cyc_nx_base,lk_mat = itws.sample_intertwinedness_basisBonanza_beta(graph_sets)\n",
    "# graph_matrices=itws.get_basis_matrices(graph_sets,cyc_nx_base)\n",
    "# cyc_mat_dir = [cm for cm in graph_matrices[-2]]\n",
    "# cyc_mat_inv = [scipy.linalg.pinv(cm) for cm in cyc_mat_dir]\n",
    "# P=np.dot(np.dot(cyc_mat_inv[0].T,lk_mat),cyc_mat_inv[1])\n",
    "\n",
    "# c1 = cyc_nx_base[0][0]\n",
    "# c2 = cyc_nx_base[1][0]\n",
    "# ev1 = ea.edge_column_rand(c1,graph_matrices[0][0], graph_matrices[1][0])\n",
    "# ev2 = ea.edge_column_rand(c2,graph_matrices[0][1], graph_matrices[1][1])\n",
    "# print(ev1)\n",
    "# print(ev2)\n",
    "\n",
    "# lk=np.dot(np.dot(ev1.T, P), ev2)\n",
    "# print(lk)"
   ]
  },
  {
   "cell_type": "code",
   "execution_count": 13,
   "metadata": {},
   "outputs": [
    {
     "name": "stdout",
     "output_type": "stream",
     "text": [
      "circuit(): initialized and ready for (some) action :)\n",
      "circuit(): initialized and ready for (some) action :)\n",
      "calc basis\n",
      "calc linking\n",
      "circuit(): initialized and ready for (some) action :)\n",
      "circuit(): initialized and ready for (some) action :)\n",
      "calc basis\n",
      "calc linking\n",
      "5min 17s ± 0 ns per loop (mean ± std. dev. of 1 run, 1 loop each)\n"
     ]
    }
   ],
   "source": [
    "%%timeit -r 1\n",
    "# generate basis vectors and corresponding graph matrices\n",
    "D = tg.createLabelLaves(3)\n",
    "graph_sets = [k.G for k in D.layer]\n",
    "print('calc basis')\n",
    "cyc_nx_bases=[itws.calc_cycle_minimum_basis(G) for G in graph_sets]\n",
    "# cyc_nx_bases=[itws.calc_cycle_basis(G) for G in graph_sets]\n",
    "# for l in cyc_nx_bases[0]:\n",
    "#     print(len(l))\n",
    "# compute linkage of basis vectors\n",
    "print('calc linking')\n",
    "numeric_res = itws.calc_basis_linkage(*cyc_nx_bases)"
   ]
  },
  {
   "cell_type": "code",
   "execution_count": null,
   "metadata": {},
   "outputs": [],
   "source": []
  }
 ],
 "metadata": {
  "kernelspec": {
   "display_name": "Python 3 (ipykernel)",
   "language": "python",
   "name": "python3"
  },
  "language_info": {
   "codemirror_mode": {
    "name": "ipython",
    "version": 3
   },
   "file_extension": ".py",
   "mimetype": "text/x-python",
   "name": "python",
   "nbconvert_exporter": "python",
   "pygments_lexer": "ipython3",
   "version": "3.9.7"
  }
 },
 "nbformat": 4,
 "nbformat_minor": 4
}
