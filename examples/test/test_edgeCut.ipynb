{
 "cells": [
  {
   "cell_type": "code",
   "execution_count": 1,
   "id": "8afdd528",
   "metadata": {},
   "outputs": [],
   "source": [
    "import networkx as nx\n",
    "import numpy as np\n",
    "import kirchhoff.circuit_init as kc\n",
    "import kirchhoff.circuit_dual as kd\n",
    "import intertwined.sampling as itws\n",
    "import intertwined.edgePriority as itwe\n",
    "\n",
    "import intertwined.test.auxFunc as af\n",
    "# compute linking numbers for unlink, simple link sand double link and assert\n",
    "# correctness for toy systems\n",
    "def test_edgeCut():\n",
    "\n",
    "    results = [\n",
    "        [],\n",
    "        [(0, 1)],\n",
    "        [(0, 1), (1, 2)],\n",
    "        [(1, 4)],\n",
    "    ]\n",
    "\n",
    "    for i, constr in enumerate(af.constr_gen):\n",
    "\n",
    "        K = constr()\n",
    "        print(constr)\n",
    "        graphSets = [k.G for k in K.layer]\n",
    "        cut_list = itwe.cuttingEdgeAlgorithm(*graphSets[::-1])\n",
    "            \n",
    "        print(cut_list)\n",
    "        assert np.array_equal(results[i], cut_list)"
   ]
  },
  {
   "cell_type": "code",
   "execution_count": 2,
   "id": "22f2d87e",
   "metadata": {},
   "outputs": [
    {
     "name": "stdout",
     "output_type": "stream",
     "text": [
      "<function contruct_link_0 at 0x7fd68e366b90>\n",
      "[]\n",
      "<function contruct_link_1 at 0x7fd68e366c20>\n",
      "[(0, 1)]\n",
      "<function contruct_link_2 at 0x7fd68e366cb0>\n",
      "[(0, 1), (1, 2)]\n",
      "<function contruct_link_3 at 0x7fd68e366d40>\n",
      "[(1, 4)]\n"
     ]
    }
   ],
   "source": [
    "test_edgeCut()"
   ]
  },
  {
   "cell_type": "code",
   "execution_count": 3,
   "id": "4eabbc1c",
   "metadata": {},
   "outputs": [],
   "source": [
    "# K = af.constr_gen[3]()\n",
    "# K.plot_circuit()\n",
    "# # fig.show()"
   ]
  },
  {
   "cell_type": "code",
   "execution_count": null,
   "id": "3937e1bb",
   "metadata": {},
   "outputs": [],
   "source": []
  }
 ],
 "metadata": {
  "kernelspec": {
   "display_name": "devTangled",
   "language": "python",
   "name": "devtangled"
  },
  "language_info": {
   "codemirror_mode": {
    "name": "ipython",
    "version": 3
   },
   "file_extension": ".py",
   "mimetype": "text/x-python",
   "name": "python",
   "nbconvert_exporter": "python",
   "pygments_lexer": "ipython3",
   "version": "3.10.4"
  }
 },
 "nbformat": 4,
 "nbformat_minor": 5
}
